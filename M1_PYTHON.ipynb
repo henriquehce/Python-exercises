{
  "nbformat": 4,
  "nbformat_minor": 0,
  "metadata": {
    "colab": {
      "provenance": [],
      "authorship_tag": "ABX9TyMGsazJXCWpNFxfdSZzhQDZ",
      "include_colab_link": true
    },
    "kernelspec": {
      "name": "python3",
      "display_name": "Python 3"
    },
    "language_info": {
      "name": "python"
    }
  },
  "cells": [
    {
      "cell_type": "markdown",
      "metadata": {
        "id": "view-in-github",
        "colab_type": "text"
      },
      "source": [
        "<a href=\"https://colab.research.google.com/github/henriquehce/Python-exercises/blob/main/M1_PYTHON.ipynb\" target=\"_parent\"><img src=\"https://colab.research.google.com/assets/colab-badge.svg\" alt=\"Open In Colab\"/></a>"
      ]
    },
    {
      "cell_type": "markdown",
      "source": [
        "1-Faça um programa que leia 5 números e informe o maior deles."
      ],
      "metadata": {
        "id": "5w3N_pGD8ttT"
      }
    },
    {
      "cell_type": "code",
      "source": [
        "numeros = []\n",
        "\n",
        "for i in range(5):\n",
        "    num = float(input(\"Digite um valor: \"))\n",
        "    numeros.append(num)\n",
        "\n",
        "maior = numeros[0]\n",
        "\n",
        "for num in numeros:\n",
        "    if num > maior:\n",
        "        maior = num\n",
        "\n",
        "print(\"O maior valor inserido foi:\", maior)"
      ],
      "metadata": {
        "id": "z8H-tL9g8ySA"
      },
      "execution_count": null,
      "outputs": []
    },
    {
      "cell_type": "markdown",
      "source": [
        "2- Faça um Programa que peça os 3 lados de um triângulo. O programa deverá informar se os valores podem ser um triângulo. Indique, caso os lados formem um triângulo, se o mesmo é: equilátero, isósceles ou escaleno.\n",
        "Dicas:\n",
        "Três lados formam um triângulo quando a soma de quaisquer dois lados for maior que o terceiro;\n",
        "Triângulo Equilátero: três lados iguais;\n",
        "Triângulo Isósceles: quaisquer dois lados iguais;\n",
        "Triângulo Escaleno: três lados diferentes;\n"
      ],
      "metadata": {
        "id": "Tg-uEz8i9Lra"
      }
    },
    {
      "cell_type": "code",
      "source": [
        "l1 = float(input(\"Digite o primeiro lado do triângulo: \"))\n",
        "l2 = float(input(\"Digite o segundo lado do triângulo: \"))\n",
        "l3 = float(input(\"Digite o terceiro lado do triângulo: \"))\n",
        "\n",
        "if l1 < l2 + l3 and l2 < l1 + l3 and l3 < l1 + l2: #informa se forma um triangulo\n",
        "    if l1 == l2 and l1 == l3:\n",
        "        print(\"Otriângulo é equilátero.\")\n",
        "    elif l1 == l2 or l1 == l3 or l2 == l3:\n",
        "        print(\"O triângulo é isósceles.\")\n",
        "    else:\n",
        "        print(\"O triângulo é escaleno.\")\n",
        "else:\n",
        "    print(\"Esses valores não formam um triângulo válido.\")"
      ],
      "metadata": {
        "colab": {
          "base_uri": "https://localhost:8080/"
        },
        "id": "Wn8OxLx_-ozo",
        "outputId": "d25ec9ea-1907-4615-ddf6-e1f7525053e3"
      },
      "execution_count": 7,
      "outputs": [
        {
          "output_type": "stream",
          "name": "stdout",
          "text": [
            "Digite o primeiro lado do triângulo: 7\n",
            "Digite o segundo lado do triângulo: 2\n",
            "Digite o terceiro lado do triângulo: 2\n",
            "Esses valores não formam um triângulo válido.\n"
          ]
        }
      ]
    },
    {
      "cell_type": "markdown",
      "source": [
        "3- Faça um Programa que peça um valor e mostre na tela se ele é primo\n"
      ],
      "metadata": {
        "id": "d2HSjhJI-5QN"
      }
    },
    {
      "cell_type": "code",
      "source": [
        "n = int(input(\"Digite um número inteiro positivo: \"))\n",
        "\n",
        "if n > 1:\n",
        "    for i in range(2, n): #divisivel por 2 ate o próprio numero\n",
        "        if n % i == 0:\n",
        "            print(n, \"não é um número primo.\")\n",
        "            break\n",
        "    else:\n",
        "        print(n, \"é um número primo.\")\n",
        "else:\n",
        "    print(n, \"não é um número primo.\")\n"
      ],
      "metadata": {
        "colab": {
          "base_uri": "https://localhost:8080/"
        },
        "id": "_b1e1ca9_gMM",
        "outputId": "c9b3797c-3606-4442-b14e-9e8d646af715"
      },
      "execution_count": 9,
      "outputs": [
        {
          "output_type": "stream",
          "name": "stdout",
          "text": [
            "Digite um número inteiro positivo: 3\n",
            "3 é um número primo.\n"
          ]
        }
      ]
    },
    {
      "cell_type": "markdown",
      "source": [
        "Sendo H= 1 + 1/2 + 1/3 + 1/4 + ... + 1/N, Faça um programa que calcule o valor de H com N termos.\n",
        "Sendo H= 1 + 1/2 + 1/3 + 1/4 + ... + 1/N, Faça um programa que calcule o valor de H com N termos.\n"
      ],
      "metadata": {
        "id": "ARSSqZcHApia"
      }
    },
    {
      "cell_type": "code",
      "source": [
        "N = int(input(\"Digite o número de termos para calcular H: \"))\n",
        "H = 0\n",
        "\n",
        "for i in range(1, N+1):\n",
        "    H += 1/i\n",
        "\n",
        "print(\"O valor de H com\", N, \"termos é:\", H)\n"
      ],
      "metadata": {
        "colab": {
          "base_uri": "https://localhost:8080/"
        },
        "id": "xZrKUXeoAq9c",
        "outputId": "539e9780-351d-4f43-cf7b-05d725ec6884"
      },
      "execution_count": 14,
      "outputs": [
        {
          "output_type": "stream",
          "name": "stdout",
          "text": [
            "Digite o número de termos para calcular H: 4\n",
            "O valor de H com 4 termos é: 2.083333333333333\n"
          ]
        }
      ]
    },
    {
      "cell_type": "markdown",
      "source": [
        "5- Faça um Programa que leia um vetor de 10 caracteres, e diga quantas consoantes foram lidas. Imprima as consoantes.\n"
      ],
      "metadata": {
        "id": "zew-rI9qCi33"
      }
    },
    {
      "cell_type": "code",
      "source": [
        "vetor = []\n",
        "consoantes = 0\n",
        "\n",
        "for i in range(10):\n",
        "    letra = input(f\"Digite o {i+1}º caractere: \")\n",
        "    vetor.append(letra)\n",
        "\n",
        "for letra in vetor:\n",
        "    if letra in 'bcdfghjklmnpqrstvwxyzBCDFGHJKLMNPQRSTVWXYZ':\n",
        "        consoantes += 1\n",
        "\n",
        "print(f\"Foram lidas {consoantes} consoantes.\")\n",
        "\n",
        "print(\"As consoantes lidas foram:\", end=' ')\n",
        "for letra in vetor:\n",
        "    if letra in 'bcdfghjklmnpqrstvwxyzBCDFGHJKLMNPQRSTVWXYZ':\n",
        "        print(letra, end=' ')"
      ],
      "metadata": {
        "colab": {
          "base_uri": "https://localhost:8080/"
        },
        "id": "lCsUkjM3CjGF",
        "outputId": "66f66b73-c43d-41fa-c788-62ec0309ef91"
      },
      "execution_count": 15,
      "outputs": [
        {
          "output_type": "stream",
          "name": "stdout",
          "text": [
            "Digite o 1º caractere: q\n",
            "Digite o 2º caractere: a\n",
            "Digite o 3º caractere: e\n",
            "Digite o 4º caractere: i\n",
            "Digite o 5º caractere: o\n",
            "Digite o 6º caractere: u\n",
            "Digite o 7º caractere: S\n",
            "Digite o 8º caractere: D\n",
            "Digite o 9º caractere: Q\n",
            "Digite o 10º caractere: 2\n",
            "Foram lidas 4 consoantes.\n",
            "As consoantes lidas foram: q S D Q "
          ]
        }
      ]
    },
    {
      "cell_type": "markdown",
      "source": [
        "6- Faça um programa que leia um número indeterminado de valores, correspondentes a notas, encerrando a entrada de dados quando for informado um valor igual a -1 (que não deve ser armazenado). Após esta entrada de dados, faça:\n",
        "Mostre a quantidade de valores que foram lidos;\n",
        "Exiba todos os valores na ordem em que foram informados, um ao lado do outro;\n",
        "Calcule e mostre a soma dos valores;\n",
        "Calcule e mostre a média dos valores;\n",
        "Calcule e mostre a quantidade de valores acima da média calculada;\n",
        "Calcule e mostre a quantidade de valores abaixo de sete;\n",
        "Encerre o programa com uma mensagem;\n"
      ],
      "metadata": {
        "id": "A9ty-ZZlDVhO"
      }
    },
    {
      "cell_type": "code",
      "source": [
        "notas = []\n",
        "nota = 0\n",
        "while nota != -1:\n",
        "    nota = float(input(\"Digite a nota (ou -1 para sair): \"))\n",
        "    if nota != -1:\n",
        "        notas.append(nota)\n",
        "\n",
        "quantidade = len(notas)\n",
        "print(f\"Quantidade de valores lidos: {quantidade}\")\n",
        "print(\"Valores informados: \", end=\"\")\n",
        "for nota in notas:\n",
        "    print(nota, end=\" \")\n",
        "\n",
        "soma = sum(notas)\n",
        "print(f\"\\nSoma dos valores: {soma:.2f}\")\n",
        "media = soma / quantidade\n",
        "print(f\"Média dos valores: {media:.2f}\")\n",
        "\n",
        "acima_media = 0\n",
        "abaixo_sete = 0\n",
        "for nota in notas:\n",
        "    if nota > media:\n",
        "        acima_media += 1\n",
        "    if nota < 7:\n",
        "        abaixo_sete += 1\n",
        "\n",
        "print(f\"Quantidade de valores acima da média: {acima_media}\")\n",
        "print(f\"Quantidade de valores abaixo de sete: {abaixo_sete}\")\n",
        "\n",
        "print(\"Programa encerrado!\")"
      ],
      "metadata": {
        "id": "3KpzJ2HeEJde"
      },
      "execution_count": null,
      "outputs": []
    },
    {
      "cell_type": "markdown",
      "source": [
        "A cifra de César é uma cifra de substituição simples em que cada letra do texto é substituída por outra letra movendo n posições no alfabeto. \n",
        "\n",
        "Por exemplo, suponha que o texto simples de entrada seja o seguinte: \n",
        "abcd xyz bola\n",
        "\n",
        "Se o valor de deslocamento, n, for 4, o texto criptografado seria o seguinte:\n",
        "efgh bcd fspe\n",
        "\n",
        "Escreva um programa que receba uma mensagem de texto simples e um número n de letras para deslocar na cifra. Ele deve fazer uma string criptografada com todas as letras transformadas e toda a pontuação e espaço em branco permanecendo inalterados.\n",
        "\n",
        "Nota: Você pode presumir que o texto simples é todo em minúsculas, exceto para espaços em branco e pontuação. \n",
        "Podem criar uma string alfabeto=\"abcdefghijklmnopqrstuvwxyz\" para auxiliar o processo.\n"
      ],
      "metadata": {
        "id": "EyB6up8UIPOE"
      }
    },
    {
      "cell_type": "code",
      "source": [
        "alfabeto = \"abcdefghijklmnopqrstuvwxyz\"\n",
        "\n",
        "texto = input(\"Digite a mensagem a ser criptografado: \")\n",
        "deslocamento = int(input(\"Digite o número de letras para deslocar: \"))\n",
        "\n",
        "MensagemCriptografada = \"\"\n",
        "\n",
        "for letra in texto:\n",
        "    if letra in alfabeto:\n",
        "        indice = alfabeto.index(letra)\n",
        "        indice_deslocado = (indice + deslocamento) % 26\n",
        "        letra_criptografada = alfabeto[indice_deslocado]\n",
        "    else:\n",
        "        letra_criptografada = letra\n",
        "    MensagemCriptografada += letra_criptografada\n",
        "\n",
        "print(\"Texto criptografado:\", MensagemCriptografada)\n",
        "\n",
        "#pega a letra e joga a quantia de numeros deslocados pra direita, A + 3 = D"
      ],
      "metadata": {
        "colab": {
          "base_uri": "https://localhost:8080/"
        },
        "id": "Eu0_uG04IQ3m",
        "outputId": "57f5bdef-b2f9-4d4e-f475-67e007102d65"
      },
      "execution_count": 16,
      "outputs": [
        {
          "output_type": "stream",
          "name": "stdout",
          "text": [
            "Digite a mensagem a ser criptografado: babababababababbaba te\n",
            "Digite o número de letras para deslocar: 15\n",
            "Texto criptografado: qpqpqpqpqpqpqpqqpqp it\n"
          ]
        }
      ]
    }
  ]
}